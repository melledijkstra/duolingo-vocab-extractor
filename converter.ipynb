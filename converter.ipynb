{
 "cells": [
  {
   "cell_type": "code",
   "execution_count": 11,
   "metadata": {},
   "outputs": [],
   "source": [
    "import json\n",
    "import pandas as pd"
   ]
  },
  {
   "cell_type": "code",
   "execution_count": 12,
   "metadata": {
    "pycharm": {
     "name": "#%%\n"
    }
   },
   "outputs": [],
   "source": [
    "with open('duolingo-swahili-lexicon.json', 'r') as fp:\n",
    "    lexicon = json.load(fp)  # type: dict"
   ]
  },
  {
   "cell_type": "code",
   "execution_count": 28,
   "metadata": {},
   "outputs": [
    {
     "name": "stdout",
     "output_type": "stream",
     "text": [
      "M/Mi Nouns\n",
      "mche@(the/a) sapling,(a/the) seedling\n",
      "mchezo@(the/a) game,(the/a) match,sport\n",
      "mchoro@(the/a) diagram,(the/a) sketch,(the/a) drawing\n",
      "mchuzi@(the/a) sauce,(the/a) gravy\n",
      "mfereji@(a/the) canal\n",
      "mfuko@(the/a) bag,(the/a) sack,(the/a) handbag\n",
      "miavuli@Umbrellas,The umbrellas\n",
      "mikuki@(the) spears\n",
      "mipira@Balls (sports),balls\n",
      "misikiti@Mosques\n",
      "misitu@(the) forests\n",
      "misumari@Nails (construction)\n",
      "miti@the trees,trees\n",
      "mizizi@(the) roots\n",
      "mji@(the/a) town\n",
      "mkasi@scissors,The scissors,(Pair of) scissors\n",
      "mkeka@(the/a) mat\n",
      "mkutano@a/the meeting,meeting\n",
      "mlango@(the/a) door\n",
      "mmea@plant,(a/the) plant\n",
      "mnyororo@(a/the) chain\n",
      "mpaka@up to,border,border/boundary/frontier\n",
      "mradi@(the/a) project\n",
      "mti@(the/a) tree\n",
      "mto@(a/the) pillow,(a/the) river\n",
      "mtumbwi@(a/the) canoe,canoe\n",
      "muziki@Music\n",
      "mzigo@(the/a) luggage,(the/a) package\n",
      "wa@of,'s,for\n"
     ]
    }
   ],
   "source": [
    "records = []\n",
    "for skill, terms in lexicon.items():\n",
    "    print(skill)\n",
    "    for term in terms:\n",
    "        if 'word' in term:\n",
    "            print(f'{term[\"word\"]}@{\",\".join(term[\"translations\"])}')"
   ]
  },
  {
   "cell_type": "code",
   "execution_count": null,
   "metadata": {},
   "outputs": [],
   "source": []
  },
  {
   "cell_type": "code",
   "execution_count": 156,
   "metadata": {
    "scrolled": true
   },
   "outputs": [
    {
     "name": "stdout",
     "output_type": "stream",
     "text": [
      "Demonstratives\n",
      "these,these (m/wa)@hawa\n",
      "these@haya\n",
      "this,these(m/mi),this (n/n)@hii\n",
      "this,this (ki/vi)@hiki\n",
      "this,this (ji/ma)@hili\n",
      "these,these (ki/vi)@hivi\n",
      "these,these (n/n)@hizi\n",
      "this,this (m/mi)@huu\n",
      "this,this (m/wa)@huyu\n",
      "those (m/mi),that (n/n),that@ile\n",
      "that (ki/vi),that@kile\n",
      "that (ji/ma),that@lile\n",
      "that (m/mi),you should eat,that@ule\n",
      "those,those (ki/vi)@vile\n",
      "those (m/wa),those,they should eat@wale\n",
      "those,those (ji/ma)@yale\n",
      "that (m/wa),that@yule\n",
      "those (n/n),those,those (u/n)@zile\n",
      "they are not writing and they are not studying!@hawaandiki na hawasomi!\n",
      "my students do not like to dance.@wanafunzi wangu hawapendi kucheza.\n",
      "they are not coming home today.@hawaji nyumbani leo.\n",
      "are the children not arriving?@watoto hawafiki?\n",
      "these are their mothers@hawa ni mama zao\n",
      "these are our teachers@hawa ni walimu wetu\n",
      "these are pupils@hawa ni wanafunzi\n",
      "try to answer these questions@jaribu kujibu maswali haya\n",
      "these are sweet mangoes@haya ni maembe matamu\n",
      "we like these avocados@tunayapenda maparachichi haya\n",
      "these are oranges@haya ni machungwa\n",
      "these are fruits@haya ni matunda\n",
      "we will use these umbrellas@tutaitumia miavuli hii\n",
      "this is my pair of shorts@hii ni kaptura yangu\n",
      "this is esther's computer@hii ni kompyuta ya esther\n",
      "they like this road a lot@wanaipenda sana barabara hii\n",
      "this is his picture@hii ni picha yake\n",
      "this is my camera@hii ni kamera yangu\n",
      "this is a light@hii ni taa\n",
      "this is a phone@hii ni simu\n",
      "this is delicious food@hiki ni chakula kitamu\n",
      "i like this food@ninakipenda chakula hiki\n",
      "this is a knife@hiki ni kisu\n",
      "this is a chair@hiki ni kiti\n",
      "this is a shoe@hiki ni kiatu\n",
      "this is a book@hiki ni kitabu\n",
      "this is a window@hili ni dirisha\n",
      "this is a bridge@hili ni daraja\n",
      "this is a market@hili ni soko\n",
      "this is a shirt@hili ni shati\n",
      "this is my car.@hili ni gari langu.\n",
      "this is a fruit@hili ni tunda\n",
      "this is a leaf@hili ni jani\n",
      "this is a hoe@hili ni jembe\n",
      "i have to use the bathroom right now!@ninahitaji kujisaidia sasa hivi!\n",
      "these are the teacher's books@hivi ni vitabu vya mwalimu\n",
      "these are my shoes@hivi ni viatu vyangu\n",
      "these are potatoes@hivi ni viazi\n",
      "these are chairs@hivi ni viti\n",
      "you will need these vegetables@mtazihitaji mboga hizi\n",
      "these are their houses@hizi ni nyumba zao\n",
      "these are new phones@hizi ni simu mpya\n",
      "these are computers@hizi ni kompyuta\n",
      "this is a pair of scissors@huu ni mkasi\n",
      "this river is long@mto  huu ni mrefu\n",
      "this is a tree@huu ni mti\n",
      "this is a hand@huu ni mkono\n",
      "this is a door@huu ni mlango\n",
      "this is a bag@huu ni mfuko\n",
      "this is emilian's grandmother@huyu ni bibi yake emilian\n",
      "this is my teacher@huyu ni mwalimu wangu\n",
      "this is his father@huyu ni baba yake\n",
      "this is my sister@huyu ni dada yangu\n",
      "this is my client@huyu ni mteja wangu\n",
      "this is a child@huyu ni mtoto\n",
      "that is a gift for esther@ile ni zawadi ya esther\n",
      "that is our house@ile ni nyumba yetu\n",
      "those are mosques@ile ni misikiti\n",
      "those are spears@ile ni mikuki\n",
      "those are balls@ile ni mipira\n",
      "that is the men's room@kile ni choo cha wanaume\n",
      "that is a dirty spoon@kile ni kijiko kichafu\n",
      "that is my book@kile ni kitabu changu\n",
      "that is food@kile ni chakula\n",
      "that is a delicious fruit@lile ni tunda tamu\n",
      "that is a nice window@lile ni dirisha zuri\n",
      "that is a nice shirt@lile ni shati zuri\n",
      "that is their shop@lile ni duka lao\n",
      "that is a hoe@lile ni jembe\n",
      "that is a seedling@ule ni mche\n",
      "that is a river@ule ni mto\n",
      "that is a door@ule ni mlango\n",
      "those are emilian's shoes@vile ni viatu vya emilian\n",
      "those are sweet potatoes@vile ni viazi vitamu\n",
      "those are sharp knives@vile ni visu vikali\n",
      "those are chairs@vile ni viti\n",
      "those teachers have taught me@walimu wale wamenifundisha\n",
      "those are their teachers@wale ni walimu wao\n",
      "those are our parents@wale ni wazazi wetu\n",
      "those are my sisters@wale ni dada zangu\n",
      "those are pupils@wale ni wanafunzi\n",
      "those are sweet fruits@yale ni matunda matamu\n",
      "those are bridges@yale ni madaraja\n",
      "those are leaves@yale ni majani\n",
      "those are clouds@yale ni mawingu\n",
      "those are hoes@yale ni majembe\n",
      "that is a good chef@yule ni mpishi mzuri\n",
      "that is his sister@yule ni dada yake\n",
      "that is a teacher@yule ni mwalimu\n",
      "that is my child@yule ni mtoto wangu\n",
      "that is my guest@yule ni mgeni wangu\n",
      "that is a pupil@yule ni mwanafunzi\n",
      "those are my cameras@zile ni kamera zangu\n",
      "those are clothes@zile ni nguo\n",
      "those are stars@zile ni nyota\n",
      "those are walls@zile ni kuta\n",
      "those are keys@zile ni funguo\n",
      "total: 115\n"
     ]
    }
   ],
   "source": [
    "import string\n",
    "trans = str.maketrans('', '', string.punctuation)\n",
    "def rem_punct(s):  # remove punctuation\n",
    "    return s.translate(trans)\n",
    "\n",
    "i = 64\n",
    "keys = list(lexicon.keys())\n",
    "skill = keys[i]\n",
    "print(skill)\n",
    "phrase_txt = ''\n",
    "j = 0\n",
    "terms = set()\n",
    "\n",
    "for term in lexicon[skill]:\n",
    "    if 'word' in term:  # make sure there are no duplicates\n",
    "        word = term['word'].lower()\n",
    "        definitions = [translation.lower() for translation in term['translations']]\n",
    "        if rem_punct(word) not in terms:\n",
    "            j += 1\n",
    "            terms.add(rem_punct(word))\n",
    "            print(f'{\",\".join(definitions)}@{word}')\n",
    "            for phrase in term['phrases']:\n",
    "                definition = phrase[\"translation_text\"].lower()\n",
    "                word = phrase[\"text\"].lower()\n",
    "                if rem_punct(word) not in terms:\n",
    "                    j += 1\n",
    "                    terms.add(rem_punct(word))\n",
    "                    phrase_txt += f'{definition}@{word}\\n'\n",
    "\n",
    "print(phrase_txt, end='')  # I wanted to have the phrases at the end, it's easier in quizlet to find images\n",
    "print(f'total: {j}')"
   ]
  },
  {
   "cell_type": "code",
   "execution_count": 101,
   "metadata": {},
   "outputs": [
    {
     "data": {
      "text/plain": [
       "65"
      ]
     },
     "execution_count": 101,
     "metadata": {},
     "output_type": "execute_result"
    }
   ],
   "source": [
    "len(keys)"
   ]
  },
  {
   "cell_type": "code",
   "execution_count": 18,
   "metadata": {
    "pycharm": {
     "is_executing": false,
     "name": "#%%\n"
    }
   },
   "outputs": [],
   "source": [
    "pd_lex = pd.DataFrame(records, columns=records[0].keys())"
   ]
  },
  {
   "cell_type": "code",
   "execution_count": 19,
   "metadata": {
    "pycharm": {
     "name": "#%%\n"
    }
   },
   "outputs": [
    {
     "name": "stdout",
     "output_type": "stream",
     "text": [
      "<class 'pandas.core.frame.DataFrame'>\n",
      "RangeIndex: 1342 entries, 0 to 1341\n",
      "Data columns (total 7 columns):\n",
      " #   Column        Non-Null Count  Dtype \n",
      "---  ------        --------------  ----- \n",
      " 0   skill         1342 non-null   object\n",
      " 1   lexem_id      1342 non-null   object\n",
      " 2   translations  1342 non-null   object\n",
      " 3   word          1086 non-null   object\n",
      " 4   image         124 non-null    object\n",
      " 5   tts           1086 non-null   object\n",
      " 6   phrases       1086 non-null   object\n",
      "dtypes: object(7)\n",
      "memory usage: 73.5+ KB\n"
     ]
    }
   ],
   "source": [
    "pd_lex.info()"
   ]
  },
  {
   "cell_type": "code",
   "execution_count": 21,
   "metadata": {},
   "outputs": [
    {
     "data": {
      "text/html": [
       "<div>\n",
       "<style scoped>\n",
       "    .dataframe tbody tr th:only-of-type {\n",
       "        vertical-align: middle;\n",
       "    }\n",
       "\n",
       "    .dataframe tbody tr th {\n",
       "        vertical-align: top;\n",
       "    }\n",
       "\n",
       "    .dataframe thead th {\n",
       "        text-align: right;\n",
       "    }\n",
       "</style>\n",
       "<table border=\"1\" class=\"dataframe\">\n",
       "  <thead>\n",
       "    <tr style=\"text-align: right;\">\n",
       "      <th></th>\n",
       "      <th>skill</th>\n",
       "      <th>lexem_id</th>\n",
       "      <th>translations</th>\n",
       "      <th>word</th>\n",
       "      <th>image</th>\n",
       "      <th>tts</th>\n",
       "      <th>phrases</th>\n",
       "    </tr>\n",
       "  </thead>\n",
       "  <tbody>\n",
       "    <tr>\n",
       "      <th>1337</th>\n",
       "      <td>Demonstratives</td>\n",
       "      <td>b3fc4ba4356bf83d424c2d512395ee3a</td>\n",
       "      <td>[those, Those (ki/vi)]</td>\n",
       "      <td>vile</td>\n",
       "      <td>None</td>\n",
       "      <td>0</td>\n",
       "      <td>[{'text': 'Vile ni viatu vya Emilian', 'tts': ...</td>\n",
       "    </tr>\n",
       "    <tr>\n",
       "      <th>1338</th>\n",
       "      <td>Demonstratives</td>\n",
       "      <td>89b7ed705b0f4e677ef2a7d125bafcce</td>\n",
       "      <td>[Those (m/wa), those, They should eat]</td>\n",
       "      <td>wale</td>\n",
       "      <td>None</td>\n",
       "      <td>0</td>\n",
       "      <td>[{'text': 'Walimu wale wamenifundisha', 'tts':...</td>\n",
       "    </tr>\n",
       "    <tr>\n",
       "      <th>1339</th>\n",
       "      <td>Demonstratives</td>\n",
       "      <td>ea1296c0bf09147d5e7eaa790574c140</td>\n",
       "      <td>[those, Those (ji/ma)]</td>\n",
       "      <td>yale</td>\n",
       "      <td>None</td>\n",
       "      <td>0</td>\n",
       "      <td>[{'text': 'Yale ni matunda matamu', 'tts': Non...</td>\n",
       "    </tr>\n",
       "    <tr>\n",
       "      <th>1340</th>\n",
       "      <td>Demonstratives</td>\n",
       "      <td>e274d002ad0183673a3ecc648bcf9772</td>\n",
       "      <td>[That (m/wa), that]</td>\n",
       "      <td>yule</td>\n",
       "      <td>None</td>\n",
       "      <td>0</td>\n",
       "      <td>[{'text': 'Yule ni mpishi mzuri', 'tts': None,...</td>\n",
       "    </tr>\n",
       "    <tr>\n",
       "      <th>1341</th>\n",
       "      <td>Demonstratives</td>\n",
       "      <td>e0ff37e2bbb1aec51ba949c6deb90721</td>\n",
       "      <td>[Those (n/n), those, Those (u/n)]</td>\n",
       "      <td>zile</td>\n",
       "      <td>None</td>\n",
       "      <td>0</td>\n",
       "      <td>[{'text': 'Zile ni kamera zangu', 'tts': 'http...</td>\n",
       "    </tr>\n",
       "  </tbody>\n",
       "</table>\n",
       "</div>"
      ],
      "text/plain": [
       "               skill                          lexem_id  \\\n",
       "1337  Demonstratives  b3fc4ba4356bf83d424c2d512395ee3a   \n",
       "1338  Demonstratives  89b7ed705b0f4e677ef2a7d125bafcce   \n",
       "1339  Demonstratives  ea1296c0bf09147d5e7eaa790574c140   \n",
       "1340  Demonstratives  e274d002ad0183673a3ecc648bcf9772   \n",
       "1341  Demonstratives  e0ff37e2bbb1aec51ba949c6deb90721   \n",
       "\n",
       "                                translations  word image tts  \\\n",
       "1337                  [those, Those (ki/vi)]  vile  None   0   \n",
       "1338  [Those (m/wa), those, They should eat]  wale  None   0   \n",
       "1339                  [those, Those (ji/ma)]  yale  None   0   \n",
       "1340                     [That (m/wa), that]  yule  None   0   \n",
       "1341       [Those (n/n), those, Those (u/n)]  zile  None   0   \n",
       "\n",
       "                                                phrases  \n",
       "1337  [{'text': 'Vile ni viatu vya Emilian', 'tts': ...  \n",
       "1338  [{'text': 'Walimu wale wamenifundisha', 'tts':...  \n",
       "1339  [{'text': 'Yale ni matunda matamu', 'tts': Non...  \n",
       "1340  [{'text': 'Yule ni mpishi mzuri', 'tts': None,...  \n",
       "1341  [{'text': 'Zile ni kamera zangu', 'tts': 'http...  "
      ]
     },
     "execution_count": 21,
     "metadata": {},
     "output_type": "execute_result"
    }
   ],
   "source": [
    "pd_lex.tail(5)"
   ]
  },
  {
   "cell_type": "code",
   "execution_count": null,
   "metadata": {},
   "outputs": [],
   "source": []
  }
 ],
 "metadata": {
  "kernelspec": {
   "display_name": "Python 3",
   "language": "python",
   "name": "python3"
  },
  "language_info": {
   "codemirror_mode": {
    "name": "ipython",
    "version": 3
   },
   "file_extension": ".py",
   "mimetype": "text/x-python",
   "name": "python",
   "nbconvert_exporter": "python",
   "pygments_lexer": "ipython3",
   "version": "3.7.6"
  },
  "pycharm": {
   "stem_cell": {
    "cell_type": "raw",
    "metadata": {
     "collapsed": false
    },
    "source": []
   }
  }
 },
 "nbformat": 4,
 "nbformat_minor": 1
}
